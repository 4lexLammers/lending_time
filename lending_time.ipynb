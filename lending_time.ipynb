{
 "cells": [
  {
   "cell_type": "code",
   "execution_count": 1,
   "id": "94d84ca0",
   "metadata": {},
   "outputs": [
    {
     "name": "stdout",
     "output_type": "stream",
     "text": [
      "                  beginDate                   endDate  type borrowerStatus  \\\n",
      "0 2006-03-28 15:47:00+00:00 2006-09-13 10:00:00+00:00  LOAN             06   \n",
      "1 2006-09-13 10:00:00+00:00 2007-03-06 15:45:00+00:00  LOAN             06   \n",
      "2 2007-03-07 12:32:00+00:00 2007-08-22 14:49:00+00:00  LOAN             06   \n",
      "\n",
      "           eventId        difference  \n",
      "0  000061375000020 168 days 18:13:00  \n",
      "1  000061375000020 174 days 05:45:00  \n",
      "2  000061375000020 168 days 02:17:00  \n",
      "\n",
      " Durchschnittliche Ausleihdauer Beispiel 3:  170 Tage\n"
     ]
    }
   ],
   "source": [
    "# Load libraries\n",
    "import pandas as pd\n",
    "from datetime import date\n",
    "from datetime import datetime\n",
    "\n",
    "# Load JSON data\n",
    "df = pd.read_json (r'fixed_JSON.json')\n",
    "\n",
    "# Flatten data\n",
    "leihen = pd.json_normalize(df['items'], 'events')\n",
    "\n",
    "# Convert dates to datetime (for calculation)\n",
    "leihen['beginDate'] = pd.to_datetime(leihen['beginDate'])\n",
    "leihen['endDate'] = pd.to_datetime(leihen['endDate'])\n",
    "leihen['difference'] = leihen['endDate'] - leihen['beginDate']\n",
    "print(leihen.head())\n",
    "\n",
    "# Calculation of average lending times\n",
    "avg_ausleihdauer = leihen[\"difference\"].mean().days\n",
    "print(\"\\n Durchschnittliche Ausleihdauer Beispiel 3:  \" + str(avg_ausleihdauer) + \" Tage\")"
   ]
  },
  {
   "cell_type": "code",
   "execution_count": null,
   "id": "0dbd27b7",
   "metadata": {},
   "outputs": [],
   "source": []
  }
 ],
 "metadata": {
  "kernelspec": {
   "display_name": "Python 3 (ipykernel)",
   "language": "python",
   "name": "python3"
  },
  "language_info": {
   "codemirror_mode": {
    "name": "ipython",
    "version": 3
   },
   "file_extension": ".py",
   "mimetype": "text/x-python",
   "name": "python",
   "nbconvert_exporter": "python",
   "pygments_lexer": "ipython3",
   "version": "3.9.7"
  }
 },
 "nbformat": 4,
 "nbformat_minor": 5
}
